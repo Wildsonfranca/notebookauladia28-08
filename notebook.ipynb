{
 "cells": [
  {
   "cell_type": "markdown",
   "metadata": {},
   "source": [
    "# Aqui eu escrevo meu texto título nível 1!!! \n",
    "\n",
    "## título nivel 2 !!!\n",
    "\n",
    "### Título nível 3 !!!\n",
    "\n",
    "---\n",
    "\n",
    "*itálico*<br />\n",
    "**negrito**<br />\n",
    "***negrito itálico***<br />\n",
    "\n",
    "\n",
    "Este é um texto normal!\n",
    "\n",
    "Exemplo de um código *hello word* no *markdowm*:<br />\n",
    "\n",
    "`print(\"Hello world\")`.\n",
    "<br />\n",
    "<br />\n",
    "1. Você vai clicar em **Não**?<br /><br />\n",
    "<input type=\"radio\" nome=\"questao\"><span>sim</span><br />\n",
    "<input type=\"radio\" nome=\"questao\"><span>Não</span><br />\n",
    "<br />\n",
    "2. Informe suas habilidades:\n",
    "<br />\n",
    "\n",
    "<input type=\"checkbox\" name=\"hab\" />Operador de Micro<br />\n",
    "<input type=\"checkbox\" name=\"hab\" />HTML<br />\n",
    "<input type=\"checkbox\" name=\"hab\" />Java<br />\n",
    "<input type=\"checkbox\" name=\"hab\" />Python<br />\n",
    "\n",
    "### Tópico:\n",
    "- Tópico 1\n",
    "- Tópico 2\n",
    "- Tópico 3\n",
    "\n",
    "### Numeração:\n",
    "\n",
    " - Numeração 1\n",
    " - Numeração 2\n",
    " - Numeração 3\n"
   ]
  },
  {
   "cell_type": "markdown",
   "metadata": {},
   "source": [
    "## Trabalhando com códigos em jupyter :\n",
    "\n",
    "## abaixo segue um exemplo de um código funcional em Python rodando em um notebook:\n",
    "\n",
    "---"
   ]
  },
  {
   "cell_type": "code",
   "execution_count": null,
   "metadata": {},
   "outputs": [],
   "source": [
    "n1 = 10\n",
    "n2 = 3\n",
    "n3 = n1+n2\n",
    "\n",
    "print(f'Resultado = {n3}')"
   ]
  },
  {
   "cell_type": "markdown",
   "metadata": {},
   "source": [
    "Repare que o código-fonte das células consideram o resultado das células anteriores do mesmo notbook.Observe no código a seguir ."
   ]
  },
  {
   "cell_type": "code",
   "execution_count": null,
   "metadata": {},
   "outputs": [],
   "source": [
    "x = 10\n",
    "print(f'Resultado = {x*n3}')"
   ]
  },
  {
   "cell_type": "markdown",
   "metadata": {},
   "source": [
    "Vamos ver um código de entrada de dados  se comporta em um notebook:\n"
   ]
  },
  {
   "cell_type": "code",
   "execution_count": null,
   "metadata": {},
   "outputs": [],
   "source": [
    "texto = input('Informe um texto a ser exibido na célula:')\n",
    "print(texto)"
   ]
  },
  {
   "cell_type": "markdown",
   "metadata": {},
   "source": [
    "Adicionando uma imagem copia e cola e aperta esc"
   ]
  },
  {
   "cell_type": "markdown",
   "metadata": {},
   "source": [
    "---"
   ]
  }
 ],
 "metadata": {
  "kernelspec": {
   "display_name": ".venv",
   "language": "python",
   "name": "python3"
  },
  "language_info": {
   "codemirror_mode": {
    "name": "ipython",
    "version": 3
   },
   "file_extension": ".py",
   "mimetype": "text/x-python",
   "name": "python",
   "nbconvert_exporter": "python",
   "pygments_lexer": "ipython3",
   "version": "3.12.5"
  }
 },
 "nbformat": 4,
 "nbformat_minor": 2
}
